{
 "cells": [
  {
   "cell_type": "code",
   "execution_count": 29,
   "metadata": {},
   "outputs": [],
   "source": [
    "import pandas as pd \n",
    "import numpy as np"
   ]
  },
  {
   "cell_type": "code",
   "execution_count": 2,
   "metadata": {},
   "outputs": [],
   "source": [
    "aa2 = pd.read_csv(\"aa2.csv\") "
   ]
  },
  {
   "cell_type": "code",
   "execution_count": 93,
   "metadata": {},
   "outputs": [],
   "source": [
    "from numpy import array\n",
    "from keras.models import Sequential\n",
    "from keras.layers import Dense\n",
    "from keras.layers import Flatten\n",
    "from keras.layers.convolutional import Conv1D\n",
    "from keras.layers.convolutional import MaxPooling1D"
   ]
  },
  {
   "cell_type": "code",
   "execution_count": 16,
   "metadata": {},
   "outputs": [],
   "source": [
    "PC1=aa2.iloc[:,1].values"
   ]
  },
  {
   "cell_type": "code",
   "execution_count": 70,
   "metadata": {},
   "outputs": [],
   "source": [
    "#X = array([[10, 20, 30], [20, 30, 40], [30, 40, 50], [40, 50, 60]])\n",
    "#y = array([40, 50, 60, 70])\n",
    "x=[]\n",
    "y=[]\n",
    "for i in range(0,70):\n",
    "    x.append([])\n",
    "    y.append([])\n",
    "    x[i].append(PC1[(1+i*100):(96+i*100)])\n",
    "    y[i].append(PC1[(96+i*100):(101+i*100)])\n",
    "x2 = np.array(x).reshape(70,95) \n",
    "y2 = np.array(y).reshape(70,5) "
   ]
  },
  {
   "cell_type": "markdown",
   "metadata": {},
   "source": [
    "# Multilayer Perceptron model for Time Series Forecasting"
   ]
  },
  {
   "cell_type": "code",
   "execution_count": 138,
   "metadata": {},
   "outputs": [
    {
     "data": {
      "text/plain": [
       "<keras.callbacks.History at 0x228789a43c8>"
      ]
     },
     "execution_count": 138,
     "metadata": {},
     "output_type": "execute_result"
    }
   ],
   "source": [
    "model = Sequential()\n",
    "model.add(Dense(100, activation='relu', input_dim=95))\n",
    "model.add(Dense(5))##dimension of output\n",
    "model.compile(optimizer='adam', loss='mse')\n",
    "# fit model\n",
    "model.fit(x2, y2, epochs=2000, verbose=0)\n",
    "# demonstrate prediction\n",
    "#x_input = array([50, 60, 70])\n",
    "#x_input = x_input.reshape((1, 3))\n",
    "#yhat = model.predict(x_input, verbose=0)\n",
    "#print(yhat)"
   ]
  },
  {
   "cell_type": "code",
   "execution_count": 91,
   "metadata": {},
   "outputs": [
    {
     "data": {
      "text/plain": [
       "1.2662665905460777"
      ]
     },
     "execution_count": 91,
     "metadata": {},
     "output_type": "execute_result"
    }
   ],
   "source": [
    "RMSEtotal = 0\n",
    "for i in range(70,72):\n",
    "    x_input = PC1[(1+i*100):(96+i*100)]\n",
    "    x_input = x_input.reshape((1, 95))\n",
    "    yhat = model.predict(x_input, verbose=0)\n",
    "    yreal = PC1[(96+i*100):(101+i*100)]\n",
    "    RMSEtotal +=np.sqrt(np.mean(np.square(yhat-yreal)))/5\n",
    "RMSEtotal/2"
   ]
  },
  {
   "cell_type": "code",
   "execution_count": 92,
   "metadata": {},
   "outputs": [
    {
     "name": "stdout",
     "output_type": "stream",
     "text": [
      "[[-5.822178  -0.6299142 -2.4337542  2.7980766  1.1447377]] [ 0.6708772 -2.012973   2.355544   9.536568  -0.6568378]\n"
     ]
    }
   ],
   "source": [
    "print(yhat,yreal)"
   ]
  },
  {
   "cell_type": "markdown",
   "metadata": {},
   "source": [
    "# Convolutional Neural Network model"
   ]
  },
  {
   "cell_type": "code",
   "execution_count": null,
   "metadata": {},
   "outputs": [],
   "source": [
    "from numpy import array\n",
    "from keras.models import Sequential\n",
    "from keras.layers import Dense\n",
    "from keras.layers import Flatten\n",
    "from keras.layers.convolutional import Conv1D\n",
    "from keras.layers.convolutional import MaxPooling1D"
   ]
  },
  {
   "cell_type": "code",
   "execution_count": 99,
   "metadata": {},
   "outputs": [
    {
     "data": {
      "text/plain": [
       "<keras.callbacks.History at 0x22820588a20>"
      ]
     },
     "execution_count": 99,
     "metadata": {},
     "output_type": "execute_result"
    }
   ],
   "source": [
    "# reshape from [samples, timesteps] into [samples, timesteps, features]\n",
    "x3 = x2.reshape((x2.shape[0], x2.shape[1], 1))\n",
    "# define model\n",
    "model = Sequential()\n",
    "model.add(Conv1D(filters=64, kernel_size=2, activation='relu', input_shape=(95, 1)))\n",
    "model.add(MaxPooling1D(pool_size=2))\n",
    "model.add(Flatten())\n",
    "model.add(Dense(50, activation='relu'))\n",
    "model.add(Dense(5))\n",
    "model.compile(optimizer='adam', loss='mse')\n",
    "# fit model\n",
    "model.fit(x3, y2, epochs=1000, verbose=0)"
   ]
  },
  {
   "cell_type": "code",
   "execution_count": 100,
   "metadata": {},
   "outputs": [
    {
     "data": {
      "text/plain": [
       "1.3082170421132409"
      ]
     },
     "execution_count": 100,
     "metadata": {},
     "output_type": "execute_result"
    }
   ],
   "source": [
    "# demonstrate prediction\n",
    "RMSEtotal = 0\n",
    "for i in range(70,72):\n",
    "    x_input = PC1[(1+i*100):(96+i*100)]\n",
    "    x_input = x_input.reshape((1, 95, 1))\n",
    "    yhat = model.predict(x_input, verbose=0)\n",
    "    yreal = PC1[(96+i*100):(101+i*100)]\n",
    "    RMSEtotal +=np.sqrt(np.mean(np.square(yhat-yreal)))/5\n",
    "RMSEtotal/2"
   ]
  },
  {
   "cell_type": "code",
   "execution_count": 101,
   "metadata": {},
   "outputs": [
    {
     "name": "stdout",
     "output_type": "stream",
     "text": [
      "[[-5.538685   -0.18632394 -4.3196282  -1.7140886   0.3033581 ]] [ 0.6708772 -2.012973   2.355544   9.536568  -0.6568378]\n"
     ]
    }
   ],
   "source": [
    "print(yhat,yreal)"
   ]
  },
  {
   "cell_type": "markdown",
   "metadata": {},
   "source": [
    "# Long Short-Term Memory Neural Network model"
   ]
  },
  {
   "cell_type": "code",
   "execution_count": 103,
   "metadata": {},
   "outputs": [],
   "source": [
    "from numpy import array\n",
    "from keras.models import Sequential\n",
    "from keras.layers import LSTM\n",
    "from keras.layers import Dense"
   ]
  },
  {
   "cell_type": "code",
   "execution_count": 106,
   "metadata": {},
   "outputs": [
    {
     "data": {
      "text/plain": [
       "<keras.callbacks.History at 0x22857688a58>"
      ]
     },
     "execution_count": 106,
     "metadata": {},
     "output_type": "execute_result"
    }
   ],
   "source": [
    "#use x3\n",
    "model = Sequential()\n",
    "model.add(LSTM(50, activation='relu', input_shape=(95, 1)))\n",
    "model.add(Dense(5))\n",
    "model.compile(optimizer='adam', loss='mse')\n",
    "# fit model\n",
    "model.fit(x3, y2, epochs=1000, verbose=0)\n",
    "## this one takes long time and expensive to train"
   ]
  },
  {
   "cell_type": "code",
   "execution_count": 107,
   "metadata": {},
   "outputs": [
    {
     "data": {
      "text/plain": [
       "1.0740439427160293"
      ]
     },
     "execution_count": 107,
     "metadata": {},
     "output_type": "execute_result"
    }
   ],
   "source": [
    "RMSEtotal = 0\n",
    "for i in range(70,72):\n",
    "    x_input = PC1[(1+i*100):(96+i*100)]\n",
    "    x_input = x_input.reshape((1, 95, 1))\n",
    "    yhat = model.predict(x_input, verbose=0)\n",
    "    yreal = PC1[(96+i*100):(101+i*100)]\n",
    "    RMSEtotal +=np.sqrt(np.mean(np.square(yhat-yreal)))/5\n",
    "RMSEtotal/2"
   ]
  },
  {
   "cell_type": "code",
   "execution_count": 108,
   "metadata": {},
   "outputs": [
    {
     "name": "stdout",
     "output_type": "stream",
     "text": [
      "[[-0.39466757  0.01985978  0.09555702  0.15525056  0.03969331]] [ 0.6708772 -2.012973   2.355544   9.536568  -0.6568378]\n"
     ]
    }
   ],
   "source": [
    "print(yhat,yreal)"
   ]
  },
  {
   "cell_type": "markdown",
   "metadata": {},
   "source": [
    "# CNN-LSTM"
   ]
  },
  {
   "cell_type": "code",
   "execution_count": 109,
   "metadata": {},
   "outputs": [],
   "source": [
    "from numpy import array\n",
    "from keras.models import Sequential\n",
    "from keras.layers import LSTM\n",
    "from keras.layers import Dense\n",
    "from keras.layers import Flatten\n",
    "from keras.layers import TimeDistributed\n",
    "from keras.layers.convolutional import Conv1D\n",
    "from keras.layers.convolutional import MaxPooling1D"
   ]
  },
  {
   "cell_type": "code",
   "execution_count": 111,
   "metadata": {},
   "outputs": [],
   "source": [
    "# reshape from [samples, timesteps] into [samples, subsequences, timesteps, features]\n",
    "#sample=70, timestep=95, features=1, \n",
    "#now define subseqences to be 5, then timestep = 19\n",
    "x4 = x2.reshape((x2.shape[0], 5, 19, 1))"
   ]
  },
  {
   "cell_type": "code",
   "execution_count": null,
   "metadata": {},
   "outputs": [],
   "source": [
    "#TimeDistributedDense applies a same dense to every time step during GRU/LSTM Cell unrolling. \n",
    "#So the error function will be between predicted label sequence and the actual label sequence. \n",
    "#(Which is normally the requirement for sequence to sequence labeling problems).\n",
    "#However, with return_sequences=False, Dense layer is applied only once at the last cell. \n",
    "#This is normally the case when RNNs are used for classification problem. \n",
    "#If return_sequences=True then Dense layer is applied to every timestep just like TimeDistributedDense."
   ]
  },
  {
   "cell_type": "code",
   "execution_count": 113,
   "metadata": {},
   "outputs": [
    {
     "data": {
      "text/plain": [
       "<keras.callbacks.History at 0x2285b23df60>"
      ]
     },
     "execution_count": 113,
     "metadata": {},
     "output_type": "execute_result"
    }
   ],
   "source": [
    "# define model\n",
    "model = Sequential()\n",
    "model.add(TimeDistributed(Conv1D(filters=64, kernel_size=1, activation='relu'), input_shape=(None, 19, 1)))\n",
    "model.add(TimeDistributed(MaxPooling1D(pool_size=2)))\n",
    "model.add(TimeDistributed(Flatten()))\n",
    "model.add(LSTM(50, activation='relu'))\n",
    "model.add(Dense(5))\n",
    "model.compile(optimizer='adam', loss='mse')\n",
    "# fit model\n",
    "model.fit(x4, y2, epochs=500, verbose=0)\n",
    "## this one takes long time and expensive to train"
   ]
  },
  {
   "cell_type": "code",
   "execution_count": 114,
   "metadata": {},
   "outputs": [
    {
     "data": {
      "text/plain": [
       "1.4978600630911831"
      ]
     },
     "execution_count": 114,
     "metadata": {},
     "output_type": "execute_result"
    }
   ],
   "source": [
    "RMSEtotal = 0\n",
    "for i in range(70,72):\n",
    "    x_input = PC1[(1+i*100):(96+i*100)]\n",
    "    x_input = x_input.reshape((1, 5, 19, 1))\n",
    "    yhat = model.predict(x_input, verbose=0)\n",
    "    yreal = PC1[(96+i*100):(101+i*100)]\n",
    "    RMSEtotal +=np.sqrt(np.mean(np.square(yhat-yreal)))/5\n",
    "RMSEtotal/2"
   ]
  },
  {
   "cell_type": "code",
   "execution_count": 115,
   "metadata": {},
   "outputs": [
    {
     "name": "stdout",
     "output_type": "stream",
     "text": [
      "[[ 1.3918232  3.4361594 -0.693788  -0.5503672  2.9316332]] [ 0.6708772 -2.012973   2.355544   9.536568  -0.6568378]\n"
     ]
    }
   ],
   "source": [
    "print(yhat,yreal)"
   ]
  },
  {
   "cell_type": "markdown",
   "metadata": {},
   "source": [
    "# Encoder-Decoder LSTM"
   ]
  },
  {
   "cell_type": "code",
   "execution_count": 116,
   "metadata": {},
   "outputs": [],
   "source": [
    "from numpy import array\n",
    "from keras.models import Sequential\n",
    "from keras.layers import LSTM\n",
    "from keras.layers import Dense\n",
    "from keras.layers import RepeatVector\n",
    "from keras.layers import TimeDistributed"
   ]
  },
  {
   "cell_type": "code",
   "execution_count": 142,
   "metadata": {},
   "outputs": [
    {
     "data": {
      "text/plain": [
       "<keras.callbacks.History at 0x2287b2f8780>"
      ]
     },
     "execution_count": 142,
     "metadata": {},
     "output_type": "execute_result"
    }
   ],
   "source": [
    "# reshape from [samples, timesteps] into [samples, timesteps, features]\n",
    "#use x3\n",
    "y3=y2.reshape((y2.shape[0], y2.shape[1], 1))\n",
    "model = Sequential()\n",
    "model.add(LSTM(100, activation='relu', input_shape=(95, 1)))\n",
    "model.add(RepeatVector(5))##timestep of y3 is 5\n",
    "model.add(LSTM(100, activation='relu', return_sequences=True))\n",
    "model.add(TimeDistributed(Dense(1)))##1 again, because repeatvector is 5. 5*1=5\n",
    "model.compile(optimizer='adam', loss='mse')\n",
    "# fit model\n",
    "model.fit(x3, y3, epochs=100, verbose=0)"
   ]
  },
  {
   "cell_type": "code",
   "execution_count": 143,
   "metadata": {},
   "outputs": [
    {
     "data": {
      "text/plain": [
       "1.0662636310115499"
      ]
     },
     "execution_count": 143,
     "metadata": {},
     "output_type": "execute_result"
    }
   ],
   "source": [
    "RMSEtotal = 0\n",
    "for i in range(70,72):\n",
    "    x_input = PC1[(1+i*100):(96+i*100)]\n",
    "    x_input = x_input.reshape((1, 95, 1))\n",
    "    yhat = model.predict(x_input, verbose=0)\n",
    "    yreal = PC1[(96+i*100):(101+i*100)]\n",
    "    RMSEtotal +=np.sqrt(np.mean(np.square(yhat-yreal)))/5\n",
    "RMSEtotal/2"
   ]
  },
  {
   "cell_type": "code",
   "execution_count": 144,
   "metadata": {},
   "outputs": [
    {
     "name": "stdout",
     "output_type": "stream",
     "text": [
      "[[[ 0.01487096]\n",
      "  [ 0.02832061]\n",
      "  [ 0.02220899]\n",
      "  [-0.00614311]\n",
      "  [-0.06218904]]] [ 0.6708772 -2.012973   2.355544   9.536568  -0.6568378]\n"
     ]
    }
   ],
   "source": [
    "print(yhat,yreal)"
   ]
  },
  {
   "cell_type": "code",
   "execution_count": null,
   "metadata": {},
   "outputs": [],
   "source": []
  }
 ],
 "metadata": {
  "kernelspec": {
   "display_name": "Python 3",
   "language": "python",
   "name": "python3"
  },
  "language_info": {
   "codemirror_mode": {
    "name": "ipython",
    "version": 3
   },
   "file_extension": ".py",
   "mimetype": "text/x-python",
   "name": "python",
   "nbconvert_exporter": "python",
   "pygments_lexer": "ipython3",
   "version": "3.6.6"
  }
 },
 "nbformat": 4,
 "nbformat_minor": 2
}
